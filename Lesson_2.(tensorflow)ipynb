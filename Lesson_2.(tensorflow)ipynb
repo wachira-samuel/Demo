{
  "cells": [
    {
      "cell_type": "markdown",
      "metadata": {
        "id": "view-in-github",
        "colab_type": "text"
      },
      "source": [
        "<a href=\"https://colab.research.google.com/github/wachira-samuel/Demo/blob/main/Lesson_2.(tensorflow)ipynb\" target=\"_parent\"><img src=\"https://colab.research.google.com/assets/colab-badge.svg\" alt=\"Open In Colab\"/></a>"
      ]
    },
    {
      "cell_type": "code",
      "execution_count": 1,
      "id": "636c3b9e-3683-4b67-b17e-3511fd929cab",
      "metadata": {
        "id": "636c3b9e-3683-4b67-b17e-3511fd929cab"
      },
      "outputs": [],
      "source": [
        "import tensorflow as tf\n",
        "import matplotlib.pyplot as plt"
      ]
    },
    {
      "cell_type": "code",
      "execution_count": 3,
      "id": "d05776b5-bb8b-46e9-b1f1-c191bbf5254b",
      "metadata": {
        "id": "d05776b5-bb8b-46e9-b1f1-c191bbf5254b"
      },
      "outputs": [],
      "source": [
        "tf.keras.datasets??"
      ]
    },
    {
      "cell_type": "markdown",
      "id": "5d38af2d-8eaf-47d8-a0c3-45fc1cf39d7b",
      "metadata": {
        "id": "5d38af2d-8eaf-47d8-a0c3-45fc1cf39d7b"
      },
      "source": [
        "## IMPORTING THE DATASET"
      ]
    },
    {
      "cell_type": "code",
      "execution_count": 4,
      "id": "01b5be69-a091-4f9c-87a5-4dafffeac4c6",
      "metadata": {
        "id": "01b5be69-a091-4f9c-87a5-4dafffeac4c6"
      },
      "outputs": [],
      "source": [
        "from keras.datasets import mnist"
      ]
    },
    {
      "cell_type": "code",
      "execution_count": 14,
      "id": "e5d24696-40e4-4f94-a5c9-788fbf92c575",
      "metadata": {
        "id": "e5d24696-40e4-4f94-a5c9-788fbf92c575"
      },
      "outputs": [],
      "source": [
        "import numpy as np\n",
        "(x_train, y_train), (x_test, y_test) = mnist.load_data()\n",
        "x_train, x_test = (x_train / 255.0).astype(np.float32), (x_test / 255.0).astype(np.float32)\n"
      ]
    },
    {
      "cell_type": "code",
      "execution_count": 15,
      "id": "a5182207-1281-473d-901b-ea7019e4538f",
      "metadata": {
        "colab": {
          "base_uri": "https://localhost:8080/"
        },
        "id": "a5182207-1281-473d-901b-ea7019e4538f",
        "outputId": "b26c951f-826f-4f43-be4c-f56be2f3dd60"
      },
      "outputs": [
        {
          "output_type": "execute_result",
          "data": {
            "text/plain": [
              "(60000, 28, 28)"
            ]
          },
          "metadata": {},
          "execution_count": 15
        }
      ],
      "source": [
        "x_train.shape"
      ]
    },
    {
      "cell_type": "code",
      "execution_count": 6,
      "id": "b4046de1-ce4c-4d4e-b47b-506cc45e072d",
      "metadata": {
        "colab": {
          "base_uri": "https://localhost:8080/"
        },
        "id": "b4046de1-ce4c-4d4e-b47b-506cc45e072d",
        "outputId": "15266523-e6d6-459e-ce97-27c1b1e8812b"
      },
      "outputs": [
        {
          "output_type": "execute_result",
          "data": {
            "text/plain": [
              "(60000,)"
            ]
          },
          "metadata": {},
          "execution_count": 6
        }
      ],
      "source": [
        "y_train.shape"
      ]
    },
    {
      "cell_type": "code",
      "execution_count": 8,
      "id": "5b87497d-975d-4cc5-bab2-4e7ee17884fa",
      "metadata": {
        "colab": {
          "base_uri": "https://localhost:8080/"
        },
        "id": "5b87497d-975d-4cc5-bab2-4e7ee17884fa",
        "outputId": "fa7df62a-9a3f-487c-c218-6c3de73e587e"
      },
      "outputs": [
        {
          "output_type": "execute_result",
          "data": {
            "text/plain": [
              "60000"
            ]
          },
          "metadata": {},
          "execution_count": 8
        }
      ],
      "source": [
        "len(x_train)"
      ]
    },
    {
      "cell_type": "code",
      "execution_count": 9,
      "id": "607b8459-8fb9-409f-be43-9fab211567fe",
      "metadata": {
        "colab": {
          "base_uri": "https://localhost:8080/"
        },
        "id": "607b8459-8fb9-409f-be43-9fab211567fe",
        "outputId": "c991f0cb-aef3-4690-f937-904b5b1ca476"
      },
      "outputs": [
        {
          "output_type": "execute_result",
          "data": {
            "text/plain": [
              "10000"
            ]
          },
          "metadata": {},
          "execution_count": 9
        }
      ],
      "source": [
        "len(x_test)"
      ]
    },
    {
      "cell_type": "markdown",
      "id": "c6bf666a-0b5d-4285-b496-14a7a2cdcbf2",
      "metadata": {
        "id": "c6bf666a-0b5d-4285-b496-14a7a2cdcbf2"
      },
      "source": [
        "## VISUALIZING THE DATASETS"
      ]
    },
    {
      "cell_type": "code",
      "execution_count": 10,
      "id": "674fc7b3-9fc6-45e2-9a5c-30a2739510c3",
      "metadata": {
        "colab": {
          "base_uri": "https://localhost:8080/",
          "height": 452
        },
        "id": "674fc7b3-9fc6-45e2-9a5c-30a2739510c3",
        "outputId": "4e019539-d717-4dcd-b4ba-0d6412e65f17"
      },
      "outputs": [
        {
          "output_type": "display_data",
          "data": {
            "text/plain": [
              "<Figure size 640x480 with 1 Axes>"
            ],
            "image/png": "[encoded data removed]"
          },
          "metadata": {}
        }
      ],
      "source": [
        "plt.imshow(x_train[10])\n",
        "plt.title(y_train[10])\n",
        "plt.show()"
      ]
    },
    {
      "cell_type": "code",
      "execution_count": null,
      "id": "ef768b78-3b7c-4cd5-ad0c-4093650ef6ab",
      "metadata": {
        "id": "ef768b78-3b7c-4cd5-ad0c-4093650ef6ab",
        "outputId": "5010a957-6fcd-4202-f9ed-656856fffb18"
      },
      "outputs": [
        {
          "data": {
            "image/png": "[encoded data removed]",
            "text/plain": [
              "<Figure size 640x480 with 1 Axes>"
            ]
          },
          "metadata": {},
          "output_type": "display_data"
        }
      ],
      "source": [
        "plt.imshow(x_train[100])\n",
        "plt.title(y_train[100])\n",
        "plt.show()"
      ]
    },
    {
      "cell_type": "markdown",
      "id": "30a13a31-78ee-47db-9063-ad39910da224",
      "metadata": {
        "id": "30a13a31-78ee-47db-9063-ad39910da224"
      },
      "source": [
        "## BUILDING THE MODEL"
      ]
    },
    {
      "cell_type": "code",
      "execution_count": 16,
      "id": "41defde2-c8d0-4e33-88fa-28bdf7a2f601",
      "metadata": {
        "id": "41defde2-c8d0-4e33-88fa-28bdf7a2f601"
      },
      "outputs": [],
      "source": [
        "from keras.models import Sequential\n",
        "from keras.layers import Flatten, Dense, Dropout\n",
        "from keras.losses import SparseCategoricalCrossentropy\n"
      ]
    },
    {
      "cell_type": "markdown",
      "id": "79a1a762-50f3-42ec-9bcc-dedc787879ae",
      "metadata": {
        "id": "79a1a762-50f3-42ec-9bcc-dedc787879ae"
      },
      "source": [
        "* Technique_1"
      ]
    },
    {
      "cell_type": "code",
      "execution_count": 17,
      "id": "920b150b-46f8-43f3-b11a-7804e24b1cfd",
      "metadata": {
        "id": "920b150b-46f8-43f3-b11a-7804e24b1cfd"
      },
      "outputs": [],
      "source": [
        "model = Sequential([\n",
        "  Flatten(input_shape=(28, 28)),\n",
        "  Dense(128, activation='relu'),\n",
        "  Dropout(0.2),\n",
        "  Dense(10)\n",
        "])\n"
      ]
    },
    {
      "cell_type": "markdown",
      "id": "eb2cb5fd-e0af-4b34-9dbc-3b7d02e80b3b",
      "metadata": {
        "id": "eb2cb5fd-e0af-4b34-9dbc-3b7d02e80b3b"
      },
      "source": [
        "* Technique_2"
      ]
    },
    {
      "cell_type": "code",
      "execution_count": 18,
      "id": "c694b24b-923d-42e8-b29a-6068a6d7f70e",
      "metadata": {
        "id": "c694b24b-923d-42e8-b29a-6068a6d7f70e"
      },
      "outputs": [],
      "source": [
        "model_2 = Sequential()\n",
        "model_2.add(Flatten(input_shape = (28, 28)))\n",
        "model_2.add(Dense(128, activation = \"relu\"))\n",
        "model_2.add(Dropout(0.2))\n",
        "model_2.add(Dense(10))"
      ]
    },
    {
      "cell_type": "markdown",
      "id": "755d8763-68f9-41fd-ae8d-ddc652fd0e71",
      "metadata": {
        "id": "755d8763-68f9-41fd-ae8d-ddc652fd0e71"
      },
      "source": [
        "## VISUALIZING THE MODEL"
      ]
    },
    {
      "cell_type": "code",
      "execution_count": 19,
      "id": "eaf04f0c-00ac-474e-bd00-79eb1d0f8d6e",
      "metadata": {
        "colab": {
          "base_uri": "https://localhost:8080/"
        },
        "id": "eaf04f0c-00ac-474e-bd00-79eb1d0f8d6e",
        "outputId": "73de9e05-cd68-4645-e3cd-ab542c64672a"
      },
      "outputs": [
        {
          "output_type": "stream",
          "name": "stdout",
          "text": [
            "Model: \"sequential\"\n",
            "_________________________________________________________________\n",
            " Layer (type)                Output Shape              Param #   \n",
            "=================================================================\n",
            " flatten (Flatten)           (None, 784)               0         \n",
            "                                                                 \n",
            " dense (Dense)               (None, 128)               100480    \n",
            "                                                                 \n",
            " dropout (Dropout)           (None, 128)               0         \n",
            "                                                                 \n",
            " dense_1 (Dense)             (None, 10)                1290      \n",
            "                                                                 \n",
            "=================================================================\n",
            "Total params: 101770 (397.54 KB)\n",
            "Trainable params: 101770 (397.54 KB)\n",
            "Non-trainable params: 0 (0.00 Byte)\n",
            "_________________________________________________________________\n"
          ]
        }
      ],
      "source": [
        "model.summary()"
      ]
    },
    {
      "cell_type": "code",
      "execution_count": 20,
      "id": "9902fe2f-05f8-4faf-8996-934f5951d98e",
      "metadata": {
        "id": "9902fe2f-05f8-4faf-8996-934f5951d98e"
      },
      "outputs": [],
      "source": [
        "from keras.utils import plot_model"
      ]
    },
    {
      "cell_type": "code",
      "execution_count": 21,
      "id": "4598a2d3-8ca5-4e62-a9f0-156255e54e79",
      "metadata": {
        "colab": {
          "base_uri": "https://localhost:8080/",
          "height": 466
        },
        "id": "4598a2d3-8ca5-4e62-a9f0-156255e54e79",
        "outputId": "b3b3a1cb-c603-4766-8340-359d57f31320"
      },
      "outputs": [
        {
          "output_type": "execute_result",
          "data": {
            "image/png": "[encoded data removed]",
            "text/plain": [
              "<IPython.core.display.Image object>"
            ]
          },
          "metadata": {},
          "execution_count": 21
        }
      ],
      "source": [
        "plot_model(model)"
      ]
    },
    {
      "cell_type": "code",
      "execution_count": 22,
      "id": "9ce34abf-2d2e-4e80-834f-2e7c551dd322",
      "metadata": {
        "id": "9ce34abf-2d2e-4e80-834f-2e7c551dd322"
      },
      "outputs": [],
      "source": [
        "loss_fn = SparseCategoricalCrossentropy(from_logits=True)\n",
        "\n",
        "model.compile(optimizer='adam',\n",
        "              loss=loss_fn,\n",
        "              metrics=['accuracy'])"
      ]
    },
    {
      "cell_type": "markdown",
      "id": "ee87c2f3-bb9a-48d7-b7f8-58435dd2c821",
      "metadata": {
        "id": "ee87c2f3-bb9a-48d7-b7f8-58435dd2c821"
      },
      "source": [
        "## TRAINING THE MODEL"
      ]
    },
    {
      "cell_type": "code",
      "execution_count": null,
      "id": "15e08394-d955-4447-9521-8caecb3e4315",
      "metadata": {
        "id": "15e08394-d955-4447-9521-8caecb3e4315",
        "outputId": "74ac7162-6ee6-4722-c82c-342300bb0acd"
      },
      "outputs": [
        {
          "name": "stdout",
          "output_type": "stream",
          "text": [
            "Epoch 1/5\n",
            "1875/1875 [==============================] - 5s 2ms/step - loss: 0.2921 - accuracy: 0.9153\n",
            "Epoch 2/5\n",
            "1875/1875 [==============================] - 4s 2ms/step - loss: 0.1406 - accuracy: 0.9582\n",
            "Epoch 3/5\n",
            "1875/1875 [==============================] - 4s 2ms/step - loss: 0.1089 - accuracy: 0.9668\n",
            "Epoch 4/5\n",
            "1875/1875 [==============================] - 4s 2ms/step - loss: 0.0872 - accuracy: 0.9729\n",
            "Epoch 5/5\n",
            "1875/1875 [==============================] - 4s 2ms/step - loss: 0.0760 - accuracy: 0.9765\n"
          ]
        }
      ],
      "source": [
        "hist = model.fit(x_train, y_train, epochs=5)\n"
      ]
    },
    {
      "cell_type": "markdown",
      "id": "a8d819c5-891a-486c-b86e-c86d65be77b6",
      "metadata": {
        "id": "a8d819c5-891a-486c-b86e-c86d65be77b6"
      },
      "source": [
        "## VISUALIZING MODEL ACCURACY AND LOSS"
      ]
    },
    {
      "cell_type": "code",
      "execution_count": null,
      "id": "d53625f4-d102-43df-97dc-50440294619f",
      "metadata": {
        "id": "d53625f4-d102-43df-97dc-50440294619f"
      },
      "outputs": [],
      "source": [
        "acc = hist.history[\"accuracy\"]\n",
        "loss = hist.history[\"loss\"]\n",
        "epoch_range = range(5)\n"
      ]
    },
    {
      "cell_type": "code",
      "execution_count": null,
      "id": "a639db13-5909-417d-bbe6-b8e7186b01fc",
      "metadata": {
        "id": "a639db13-5909-417d-bbe6-b8e7186b01fc",
        "outputId": "1a0eb895-c02e-4780-adfa-0eb51e41800d"
      },
      "outputs": [
        {
          "data": {
            "image/png": "[encoded data removed]",
            "text/plain": [
              "<Figure size 640x480 with 1 Axes>"
            ]
          },
          "metadata": {},
          "output_type": "display_data"
        }
      ],
      "source": [
        "plt.plot(acc, epoch_range)\n",
        "plt.title(\"accuracy\")\n",
        "plt.show()"
      ]
    },
    {
      "cell_type": "code",
      "execution_count": null,
      "id": "4b10a8a4-11e1-414a-ba60-68c699062be7",
      "metadata": {
        "id": "4b10a8a4-11e1-414a-ba60-68c699062be7",
        "outputId": "6bdebb45-d281-40e9-b2cd-0de064eecf00"
      },
      "outputs": [
        {
          "data": {
            "image/png": "[encoded data removed]",
            "text/plain": [
              "<Figure size 640x480 with 1 Axes>"
            ]
          },
          "metadata": {},
          "output_type": "display_data"
        }
      ],
      "source": [
        "plt.plot(loss, epoch_range)\n",
        "plt.title(\"loss\")\n",
        "plt.show()"
      ]
    },
    {
      "cell_type": "code",
      "execution_count": null,
      "id": "d085b1e2-617a-40e0-8347-e13c3a451fce",
      "metadata": {
        "id": "d085b1e2-617a-40e0-8347-e13c3a451fce",
        "outputId": "beee3336-dc78-46ce-c9c2-6dc1670c0cd8"
      },
      "outputs": [
        {
          "name": "stdout",
          "output_type": "stream",
          "text": [
            "313/313 - 0s - loss: 0.0689 - accuracy: 0.9780 - 441ms/epoch - 1ms/step\n"
          ]
        }
      ],
      "source": [
        "testing_hist = model.evaluate(x_test, y_test, verbose = 2)"
      ]
    },
    {
      "cell_type": "code",
      "execution_count": null,
      "id": "d801cabd-6efd-4edf-8273-4034661162c1",
      "metadata": {
        "id": "d801cabd-6efd-4edf-8273-4034661162c1"
      },
      "outputs": [],
      "source": []
    }
  ],
  "metadata": {
    "kernelspec": {
      "display_name": "Python 3 (ipykernel)",
      "language": "python",
      "name": "python3"
    },
    "language_info": {
      "codemirror_mode": {
        "name": "ipython",
        "version": 3
      },
      "file_extension": ".py",
      "mimetype": "text/x-python",
      "name": "python",
      "nbconvert_exporter": "python",
      "pygments_lexer": "ipython3",
      "version": "3.12.0"
    },
    "colab": {
      "provenance": [],
      "include_colab_link": true
    }
  },
  "nbformat": 4,
  "nbformat_minor": 5
}